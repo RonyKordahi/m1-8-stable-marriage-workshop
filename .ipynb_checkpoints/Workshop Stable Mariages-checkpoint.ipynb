{
 "cells": [
  {
   "cell_type": "markdown",
   "metadata": {
    "colab_type": "text",
    "id": "S-Xd3LLIcLBw"
   },
   "source": [
    "# Stable Mariages\n",
    "\n",
    "For this workshop we'll implement a version of the **Nobel Prize-winning algorithm** for the stable marriage problem. It's called the [Gale-Shapley](https://en.wikipedia.org/wiki/Gale%E2%80%93Shapley_algorithm) algorithm AKA the \"Deferred Acceptance\" algorithm.\n",
    "\n",
    "The Gale Shapley algorithm solves what's called the **Stable Marriage** Problem. Here is the problem framed as marrying men and women: \n",
    "\n",
    "> Given $n$ men and $n$ women, where each person has ranked all members of the opposite sex in order of preference, marry the men and women together such that there are no two people of opposite sex who would both rather have each other than their current partners. When there are no such pairs of people, the set of marriages is deemed stable.\n",
    "\n",
    "This little model however is generally applied to more than marrying men and women. For example, it's the algorithm used to match newly graduated doctors with hospitals, and a variation on it matches kidney patients with organ donors in our hospital system.\n",
    "\n",
    "The algorithmic question is, given lists of preferences as input, can we find a stable marriage? Can we even guarantee a stable marriage will exist for any set of preferences? The answer to both questions is yes, and it uses an algorithm called deferred acceptance.\n",
    "\n",
    "Here is an informal description of the algorithm. It goes in rounds. In each round, each man “proposes” to the highest-preferred woman that has not yet rejected him. On the other side, each woman holds a reference to a man at all times. If a woman gets new proposals in a round, she immediately rejects every proposer except her most preferred, but does not accept that proposal. She “defers” the acceptance of the proposal until the very end.\n",
    "\n",
    "![](Gale-Shapley.gif)\n",
    "\n",
    "# Your Task\n",
    "\n",
    "Build a solution `gale_shapley(men, women) -> dict` Where the input is a list of suitors and a list of Suiteds with every one in these lists holding their lists of preferences. The output is a dictionary `suitor -> suited`\n",
    "\n",
    "Here is a possible way to design a solution:\n",
    "\n",
    "### Man Class\n",
    "\n",
    "The `Man(id, preference_list)` class holds the following attributes:\n",
    "\n",
    "- Its own ID (an `int`)\n",
    "\n",
    "- A list or array of IDs, which are ordered. So `preference_list[0]` is prefered to `preference_list[1]` and so on\n",
    "\n",
    "- A method `Suitor.preference()` which points to its current possible reference. It should start by pointing at `preference_list[0]` and every time the Suitor gets rejected in the algorithm, this should point to the next preference.\n",
    "\n",
    "### Woman Class\n",
    "\n",
    "The `Woman(id, preference_list)` class holds the following attributes:\n",
    "\n",
    "- Its own ID (an `int`)\n",
    "\n",
    "- A list or array of IDs, which are ordered. So `preference_list[0]` is prefered to `preference_list[1]` and so on\n",
    "\n",
    "- A set of current suitors\n",
    "\n",
    "- A method `Suited.reject()` which returns all current suitors except the most preferred one\n",
    "\n",
    "### The Stable Mariage Algorithm\n",
    "\n",
    "Takes in a list of men and women, loops over suitors trying to find a match until there aren't any unassigned suitors left. Here is the pseudocode for the algorithm:\n",
    "\n",
    "```\n",
    "algorithm stable_matching\n",
    "    Initialize all m ∈ M and w ∈ W to free\n",
    "    while ∃ free man m who still has a woman w to propose to do\n",
    "        w := first woman on m's list to whom m has not yet proposed\n",
    "        if w is free then\n",
    "            (m, w) become engaged\n",
    "        else some pair (m', w) already exists\n",
    "            if w prefers m to m' then\n",
    "                m' becomes free\n",
    "                (m, w) become engaged \n",
    "            else\n",
    "                (m', w) remain engaged\n",
    "            end if\n",
    "        end if\n",
    "    repeat\n",
    "```\n",
    "\n",
    "\n",
    "Here is some example code of a solution working:\n",
    "\n",
    "```\n",
    "men = [\n",
    "    Man(id=0, preference_list=[0,1,2,3]),\n",
    "    Man(id=1, preference_list=[2,3,0,1]),\n",
    "    Man(id=2, preference_list=[1,0,3,2]),\n",
    "    Man(id=3, preference_list=[3,2,1,0]),\n",
    "]\n",
    "\n",
    "women = [\n",
    "    Woman(id=0, preference_list=[0,1,2,3]),\n",
    "    Woman(id=1, preference_list=[2,3,0,1]),\n",
    "    Woman(id=2, preference_list=[1,0,3,2]),\n",
    "    Woman(id=3, preference_list=[3,2,1,0]),\n",
    "]\n",
    "\n",
    "stable_marriage(men, women)\n",
    "```\n",
    "\n",
    "output:\n",
    "\n",
    "```\n",
    "{0: 0, \n",
    " 2: 1, \n",
    " 1: 2, \n",
    " 3: 3}\n",
    "```"
   ]
  },
  {
   "cell_type": "code",
   "execution_count": 60,
   "metadata": {
    "colab": {},
    "colab_type": "code",
    "id": "tnfODNsiHMya"
   },
   "outputs": [],
   "source": [
    "class Man():\n",
    "    \n",
    "    def __init__(self, num):\n",
    "        self.id = num\n",
    "        self.engaged_to = None\n",
    "        self.pref = None\n",
    "        \n",
    "    def __str__(self):\n",
    "        return (f\"Id is {self.id}, engaged to {self.engaged_to}\")\n",
    "        \n",
    "class Woman():\n",
    "    def __init__(self, num):\n",
    "        self.id = num\n",
    "        self.engaged_to = None\n",
    "        self.pref = None\n",
    "\n",
    "    def __str__(self):\n",
    "        return (f\"Id is {self.id}, engaged to {self.engaged_to}\")"
   ]
  },
  {
   "cell_type": "code",
   "execution_count": 76,
   "metadata": {},
   "outputs": [],
   "source": [
    "men = [{\"man\": \"\", \"pl\":[0,1,2,3]}, {\"man\": \"\", \"pl\": [2,3,0,1]}, {\"man\": \"\", \"pl\": [1,0,3,2]}, {\"man\": \"\", \"pl\": [3,2,1,0]}]\n",
    "women = [{\"woman\": \"\", \"pl\":[0,1,2,3]}, {\"woman\": \"\", \"pl\": [2,3,0,1]}, {\"woman\": \"\", \"pl\": [1,0,3,2]}, {\"woman\": \"\", \"pl\": [3,2,1,0]}]\n",
    "\n",
    "for i in range(4):\n",
    "    men[i][\"man\"] = Man(i)\n",
    "    women[i][\"woman\"] = Woman(i)"
   ]
  },
  {
   "cell_type": "code",
   "execution_count": 77,
   "metadata": {},
   "outputs": [],
   "source": [
    "# WARNING: code may make your eyes water\n",
    "\n",
    "def stable_matching(men, women):\n",
    "    \n",
    "    for i in range(len(men)):\n",
    "        \n",
    "        while men[i][\"man\"].engaged_to == None or women[i][\"woman\"].engaged_to == None:\n",
    "            \n",
    "            men[i][\"man\"].pref = men[i][\"pl\"][0]\n",
    "            women[i][\"woman\"].pref = women[i][\"pl\"][0]\n",
    "\n",
    "            if women[men[i][\"man\"].pref][\"woman\"].engaged_to == None :\n",
    "\n",
    "                women[men[i][\"man\"].pref][\"woman\"].engaged_to = men[i][\"man\"].id\n",
    "                men[i][\"man\"].engaged_to = women[men[i][\"man\"].pref][\"woman\"].id\n",
    "\n",
    "                break\n",
    "\n",
    "            elif  women[i][\"pl\"].index(men[i][\"man\"].id) < women[i][\"pl\"].index(women[i][\"woman\"].engaged_to):\n",
    "                men[men.index(women[i][\"pl\"][women[i][\"woman\"].engaged_to])][\"man\"].engaged_to = None\n",
    "                women[i][\"woman\"].engaged_to = men[i][\"man\"].id\n",
    "\n",
    "    return {\n",
    "        men[0][\"man\"].id : men[0][\"man\"].engaged_to,\n",
    "        men[1][\"man\"].id : men[1][\"man\"].engaged_to,\n",
    "        men[2][\"man\"].id : men[2][\"man\"].engaged_to,\n",
    "        men[3][\"man\"].id : men[3][\"man\"].engaged_to,\n",
    "    }"
   ]
  },
  {
   "cell_type": "code",
   "execution_count": 78,
   "metadata": {},
   "outputs": [
    {
     "data": {
      "text/plain": [
       "{0: 0, 1: 2, 2: 1, 3: 3}"
      ]
     },
     "execution_count": 78,
     "metadata": {},
     "output_type": "execute_result"
    }
   ],
   "source": [
    "stable_matching(men, women)"
   ]
  }
 ],
 "metadata": {
  "colab": {
   "collapsed_sections": [],
   "name": "Workshop: Python Types and Classes.ipynb",
   "provenance": []
  },
  "kernelspec": {
   "display_name": "Python 3",
   "language": "python",
   "name": "python3"
  },
  "language_info": {
   "codemirror_mode": {
    "name": "ipython",
    "version": 3
   },
   "file_extension": ".py",
   "mimetype": "text/x-python",
   "name": "python",
   "nbconvert_exporter": "python",
   "pygments_lexer": "ipython3",
   "version": "3.7.6"
  }
 },
 "nbformat": 4,
 "nbformat_minor": 1
}
